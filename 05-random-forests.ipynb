{
 "cells": [
  {
   "cell_type": "markdown",
   "id": "23136f04",
   "metadata": {
    "papermill": {
     "duration": 0.006232,
     "end_time": "2021-11-09T00:03:16.069313",
     "exception": false,
     "start_time": "2021-11-09T00:03:16.063081",
     "status": "completed"
    },
    "tags": []
   },
   "source": [
    "# Introduction\n",
    "\n",
    "Decision trees leave you with a difficult decision. A deep tree with lots of leaves will overfit because each prediction is coming from historical data from only the few houses at its leaf. But a shallow tree with few leaves will perform poorly because it fails to capture as many distinctions in the raw data.\n",
    "\n",
    "Even today's most sophisticated modeling techniques face this tension between underfitting and overfitting. But, many models have clever ideas that can lead to better performance. We'll look at the **random forest** as an example.\n",
    "\n",
    "The random forest uses many trees, and it makes a prediction by averaging the predictions of each component tree. It generally has much better predictive accuracy than a single decision tree and it works well with default parameters. If you keep modeling, you can learn more models with even better performance, but many of those are sensitive to getting the right parameters. \n",
    "\n",
    "# Example\n",
    "\n",
    "You've already seen the code to load the data a few times. At the end of data-loading, we have the following variables:\n",
    "- train_X\n",
    "- val_X\n",
    "- train_y\n",
    "- val_y"
   ]
  },
  {
   "cell_type": "code",
   "execution_count": null,
   "id": "4936e8f7-fb13-4bd6-bc81-8154bc87593e",
   "metadata": {
    "_kg_hide-input": true,
    "_kg_hide-output": true,
    "papermill": {
     "duration": 1.114736,
     "end_time": "2021-11-09T00:03:17.190332",
     "exception": false,
     "start_time": "2021-11-09T00:03:16.075596",
     "status": "completed"
    },
    "tags": []
   },
   "outputs": [],
   "source": [
    "import pandas as pd\n",
    "    \n",
    "# Load data\n",
    "melbourne_file_path = './data/melb_data.csv'\n",
    "melbourne_data = pd.read_csv(melbourne_file_path) \n",
    "\n",
    "# Filter rows with missing values\n",
    "melbourne_data = melbourne_data.dropna(axis=0)\n",
    "\n",
    "# Choose target and features\n",
    "y = melbourne_data.Price\n",
    "melbourne_features = [\n",
    "    'Rooms', 'Bathroom', 'Landsize', 'BuildingArea', \n",
    "    'YearBuilt', 'Lattitude', 'Longtitude'\n",
    "]\n",
    "X = melbourne_data[melbourne_features]"
   ]
  },
  {
   "cell_type": "markdown",
   "id": "556c66c2-038a-446e-a637-70b372d40dfe",
   "metadata": {},
   "source": [
    "Split data into training and validation data, for both features and target.\n",
    "The split is based on a random number generator. Supplying a numeric value to the random_state argument guarantees we get the same split every time we run this script."
   ]
  },
  {
   "cell_type": "code",
   "execution_count": null,
   "id": "399f8b56-b54a-4098-813b-dc7710d5e96f",
   "metadata": {
    "_kg_hide-input": true,
    "_kg_hide-output": true,
    "papermill": {
     "duration": 1.114736,
     "end_time": "2021-11-09T00:03:17.190332",
     "exception": false,
     "start_time": "2021-11-09T00:03:16.075596",
     "status": "completed"
    },
    "tags": []
   },
   "outputs": [],
   "source": [
    "from sklearn.model_selection import train_test_split\n",
    "\n",
    "train_X, val_X, train_y, val_y = train_test_split(X, y,random_state = 0)"
   ]
  },
  {
   "cell_type": "markdown",
   "id": "398cc31b",
   "metadata": {
    "papermill": {
     "duration": 0.00396,
     "end_time": "2021-11-09T00:03:17.198773",
     "exception": false,
     "start_time": "2021-11-09T00:03:17.194813",
     "status": "completed"
    },
    "tags": []
   },
   "source": [
    "We build a random forest model similarly to how we built a decision tree in scikit-learn - this time using the `RandomForestRegressor` class instead of `DecisionTreeRegressor`."
   ]
  },
  {
   "cell_type": "code",
   "execution_count": null,
   "id": "fb800b15",
   "metadata": {
    "papermill": {
     "duration": 2.269374,
     "end_time": "2021-11-09T00:03:19.472229",
     "exception": false,
     "start_time": "2021-11-09T00:03:17.202855",
     "status": "completed"
    },
    "tags": []
   },
   "outputs": [],
   "source": [
    "from sklearn.ensemble import RandomForestRegressor\n",
    "from sklearn.metrics import mean_absolute_error\n",
    "\n",
    "forest_model = RandomForestRegressor(random_state=1)\n",
    "forest_model.fit(train_X, train_y)\n",
    "melb_preds = forest_model.predict(val_X)\n",
    "\n",
    "print(mean_absolute_error(val_y, melb_preds))"
   ]
  },
  {
   "cell_type": "markdown",
   "id": "55541da2",
   "metadata": {
    "papermill": {
     "duration": 0.00392,
     "end_time": "2021-11-09T00:03:19.483003",
     "exception": false,
     "start_time": "2021-11-09T00:03:19.479083",
     "status": "completed"
    },
    "tags": []
   },
   "source": [
    "# Conclusion \n",
    "There is likely room for further improvement, but this is a big improvement over the best decision tree error of 250,000. There are parameters which allow you to change the performance of the Random Forest much as we changed the maximum depth of the single decision tree. But one of the best features of Random Forest models is that they generally work reasonably even without this tuning.\n",
    "\n",
    "# Your Turn \n",
    "Try using a Random Forest model yourself and see how much it improves your model."
   ]
  }
 ],
 "metadata": {
  "kernelspec": {
   "display_name": "Python 3 (ipykernel)",
   "language": "python",
   "name": "python3"
  },
  "language_info": {
   "codemirror_mode": {
    "name": "ipython",
    "version": 3
   },
   "file_extension": ".py",
   "mimetype": "text/x-python",
   "name": "python",
   "nbconvert_exporter": "python",
   "pygments_lexer": "ipython3",
   "version": "3.8.8"
  },
  "papermill": {
   "default_parameters": {},
   "duration": 12.470934,
   "end_time": "2021-11-09T00:03:20.206628",
   "environment_variables": {},
   "exception": null,
   "input_path": "__notebook__.ipynb",
   "output_path": "__notebook__.ipynb",
   "parameters": {},
   "start_time": "2021-11-09T00:03:07.735694",
   "version": "2.3.3"
  }
 },
 "nbformat": 4,
 "nbformat_minor": 5
}
