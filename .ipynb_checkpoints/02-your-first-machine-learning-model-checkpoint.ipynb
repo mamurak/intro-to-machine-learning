{
 "cells": [
  {
   "cell_type": "markdown",
   "id": "cf6c31de",
   "metadata": {
    "papermill": {
     "duration": 0.010438,
     "end_time": "2021-11-09T00:01:18.025351",
     "exception": false,
     "start_time": "2021-11-09T00:01:18.014913",
     "status": "completed"
    },
    "tags": []
   },
   "source": [
    "# Selecting Data for Modeling\n",
    "Your dataset had  too many variables to wrap your head around, or even to print out nicely.  How can you pare down this overwhelming amount of data to something you can understand?\n",
    "\n",
    "We'll start by picking a few variables using our intuition. Later courses will show you statistical techniques to automatically prioritize variables.\n",
    "\n",
    "To choose variables/columns, we'll need to see a list of all columns in the dataset. That is done with the **columns** property of the DataFrame (the bottom line of code below).\n"
   ]
  },
  {
   "cell_type": "code",
   "execution_count": null,
   "id": "774ad41e-8612-473a-a665-e32e68a12698",
   "metadata": {
    "papermill": {
     "duration": 0.151029,
     "end_time": "2021-11-09T00:01:18.186138",
     "exception": false,
     "start_time": "2021-11-09T00:01:18.035109",
     "status": "completed"
    },
    "tags": []
   },
   "outputs": [],
   "source": [
    "from os import environ\n",
    "\n",
    "from boto3 import client\n",
    "import pandas as pd\n",
    "\n",
    "s3_access_key = environ.get('S3_ACCESS_KEY')\n",
    "s3_secret_key = environ.get('S3_SECRET_KEY')\n",
    "\n",
    "s3_client = client(\n",
    "    's3', aws_access_key_id=s3_access_key,\n",
    "    aws_secret_access_key=s3_secret_key,\n",
    ")"
   ]
  },
  {
   "cell_type": "code",
   "execution_count": null,
   "id": "33c305e5-aea7-4103-932e-443b81a8f1b1",
   "metadata": {
    "papermill": {
     "duration": 0.151029,
     "end_time": "2021-11-09T00:01:18.186138",
     "exception": false,
     "start_time": "2021-11-09T00:01:18.035109",
     "status": "completed"
    },
    "tags": []
   },
   "outputs": [],
   "source": [
    "melbourne_file_path = './data/02-your-first-machine-learning-model/melb_data.csv'\n",
    "s3_client.download_file(\n",
    "    'intro-to-machine-learning', 'basic-data-exploration/melb_data.csv',\n",
    "    melbourne_file_path,\n",
    ")    "
   ]
  },
  {
   "cell_type": "code",
   "execution_count": null,
   "id": "4fadbd48-e358-445a-8d17-55fe1170a271",
   "metadata": {
    "papermill": {
     "duration": 0.151029,
     "end_time": "2021-11-09T00:01:18.186138",
     "exception": false,
     "start_time": "2021-11-09T00:01:18.035109",
     "status": "completed"
    },
    "tags": []
   },
   "outputs": [],
   "source": [
    "melbourne_data = pd.read_csv(melbourne_file_path) \n",
    "melbourne_data.columns"
   ]
  },
  {
   "cell_type": "markdown",
   "id": "e030606e-5f04-4f9c-ae46-66287639a289",
   "metadata": {},
   "source": [
    "The Melbourne data has some missing values (some houses for which some variables weren't recorded.)\n",
    "We'll learn to handle missing values in a later tutorial.  \n",
    "Your Iowa data doesn't have missing values in the columns you use. \n",
    "So we will take the simplest option for now, and drop houses from our data."
   ]
  },
  {
   "cell_type": "code",
   "execution_count": null,
   "id": "13e3d4a6",
   "metadata": {
    "papermill": {
     "duration": 0.043215,
     "end_time": "2021-11-09T00:01:18.239351",
     "exception": false,
     "start_time": "2021-11-09T00:01:18.196136",
     "status": "completed"
    },
    "tags": []
   },
   "outputs": [],
   "source": [
    "# dropna drops missing values (think of na as \"not available\")\n",
    "melbourne_data = melbourne_data.dropna(axis=0)"
   ]
  },
  {
   "cell_type": "markdown",
   "id": "86977cbe",
   "metadata": {
    "papermill": {
     "duration": 0.010888,
     "end_time": "2021-11-09T00:01:18.260527",
     "exception": false,
     "start_time": "2021-11-09T00:01:18.249639",
     "status": "completed"
    },
    "tags": []
   },
   "source": [
    "There are many ways to select a subset of your data. The [Pandas course](https://www.kaggle.com/learn/pandas) covers these in more depth, but we will focus on two approaches for now.\n",
    "\n",
    "1. Dot notation, which we use to select the \"prediction target\"\n",
    "2. Selecting with a column list, which we use to select the \"features\" \n",
    "\n",
    "## Selecting The Prediction Target \n",
    "You can pull out a variable with **dot-notation**.  This single column is stored in a **Series**, which is broadly like a DataFrame with only a single column of data.  \n",
    "\n",
    "We'll use the dot notation to select the column we want to predict, which is called the **prediction target**. By convention, the prediction target is called **y**. So the code we need to save the house prices in the Melbourne data is"
   ]
  },
  {
   "cell_type": "code",
   "execution_count": null,
   "id": "2c930e65",
   "metadata": {
    "papermill": {
     "duration": 0.02532,
     "end_time": "2021-11-09T00:01:18.296053",
     "exception": false,
     "start_time": "2021-11-09T00:01:18.270733",
     "status": "completed"
    },
    "tags": []
   },
   "outputs": [],
   "source": [
    "y = melbourne_data.Price"
   ]
  },
  {
   "cell_type": "markdown",
   "id": "c3dce93e",
   "metadata": {
    "papermill": {
     "duration": 0.009417,
     "end_time": "2021-11-09T00:01:18.315330",
     "exception": false,
     "start_time": "2021-11-09T00:01:18.305913",
     "status": "completed"
    },
    "tags": []
   },
   "source": [
    "# Choosing \"Features\"\n",
    "The columns that are fed into our model (and later used to make predictions) are called \"features.\" In our case, those would be the columns used to determine the home price. Sometimes, you will use all columns except the target as features. Other times you'll be better off with fewer features. \n",
    "\n",
    "For now, we'll build a model with only a few features. Later on you'll see how to iterate and compare models built with different features.\n",
    "\n",
    "We select multiple features by providing a list of column names inside brackets. Each item in that list should be a string (with quotes).\n",
    "\n",
    "Here is an example:"
   ]
  },
  {
   "cell_type": "code",
   "execution_count": null,
   "id": "0785c333",
   "metadata": {
    "papermill": {
     "duration": 0.016509,
     "end_time": "2021-11-09T00:01:18.341525",
     "exception": false,
     "start_time": "2021-11-09T00:01:18.325016",
     "status": "completed"
    },
    "tags": []
   },
   "outputs": [],
   "source": [
    "melbourne_features = ['Rooms', 'Bathroom', 'Landsize', 'Lattitude', 'Longtitude']"
   ]
  },
  {
   "cell_type": "markdown",
   "id": "b8ea0ac5",
   "metadata": {
    "papermill": {
     "duration": 0.010313,
     "end_time": "2021-11-09T00:01:18.362549",
     "exception": false,
     "start_time": "2021-11-09T00:01:18.352236",
     "status": "completed"
    },
    "tags": []
   },
   "source": [
    "By convention, this data is called **X**."
   ]
  },
  {
   "cell_type": "code",
   "execution_count": null,
   "id": "caba549d",
   "metadata": {
    "papermill": {
     "duration": 0.019843,
     "end_time": "2021-11-09T00:01:18.392142",
     "exception": false,
     "start_time": "2021-11-09T00:01:18.372299",
     "status": "completed"
    },
    "tags": []
   },
   "outputs": [],
   "source": [
    "X = melbourne_data[melbourne_features]"
   ]
  },
  {
   "cell_type": "markdown",
   "id": "3f7aaf56",
   "metadata": {
    "papermill": {
     "duration": 0.009694,
     "end_time": "2021-11-09T00:01:18.412328",
     "exception": false,
     "start_time": "2021-11-09T00:01:18.402634",
     "status": "completed"
    },
    "tags": []
   },
   "source": [
    "Let's quickly review the data we'll be using to predict house prices using the `describe` method and the `head` method, which shows the top few rows."
   ]
  },
  {
   "cell_type": "code",
   "execution_count": null,
   "id": "e1c8c23e",
   "metadata": {
    "papermill": {
     "duration": 0.046281,
     "end_time": "2021-11-09T00:01:18.469195",
     "exception": false,
     "start_time": "2021-11-09T00:01:18.422914",
     "status": "completed"
    },
    "tags": []
   },
   "outputs": [],
   "source": [
    "X.describe()"
   ]
  },
  {
   "cell_type": "code",
   "execution_count": null,
   "id": "1611ace0",
   "metadata": {
    "papermill": {
     "duration": 0.025475,
     "end_time": "2021-11-09T00:01:18.505852",
     "exception": false,
     "start_time": "2021-11-09T00:01:18.480377",
     "status": "completed"
    },
    "tags": []
   },
   "outputs": [],
   "source": [
    "X.head()"
   ]
  },
  {
   "cell_type": "markdown",
   "id": "43185f77",
   "metadata": {
    "papermill": {
     "duration": 0.011205,
     "end_time": "2021-11-09T00:01:18.528204",
     "exception": false,
     "start_time": "2021-11-09T00:01:18.516999",
     "status": "completed"
    },
    "tags": []
   },
   "source": [
    "Visually checking your data with these commands is an important part of a data scientist's job.  You'll frequently find surprises in the dataset that deserve further inspection."
   ]
  },
  {
   "cell_type": "markdown",
   "id": "4176e64a",
   "metadata": {
    "papermill": {
     "duration": 0.010664,
     "end_time": "2021-11-09T00:01:18.549929",
     "exception": false,
     "start_time": "2021-11-09T00:01:18.539265",
     "status": "completed"
    },
    "tags": []
   },
   "source": [
    "---\n",
    "# Building Your Model\n",
    "\n",
    "You will use the **scikit-learn** library to create your models.  When coding, this library is written as **sklearn**, as you will see in the sample code. Scikit-learn is easily the most popular library for modeling the types of data typically stored in DataFrames. \n",
    "\n",
    "The steps to building and using a model are:\n",
    "* **Define:** What type of model will it be?  A decision tree?  Some other type of model? Some other parameters of the model type are specified too.\n",
    "* **Fit:** Capture patterns from provided data. This is the heart of modeling.\n",
    "* **Predict:** Just what it sounds like\n",
    "* **Evaluate**: Determine how accurate the model's predictions are.\n",
    "\n",
    "Here is an example of defining a decision tree model with scikit-learn and fitting it with the features and target variable."
   ]
  },
  {
   "cell_type": "code",
   "execution_count": null,
   "id": "1e716f1d",
   "metadata": {
    "papermill": {
     "duration": 1.179906,
     "end_time": "2021-11-09T00:01:19.740675",
     "exception": false,
     "start_time": "2021-11-09T00:01:18.560769",
     "status": "completed"
    },
    "tags": []
   },
   "outputs": [],
   "source": [
    "from sklearn.tree import DecisionTreeRegressor\n",
    "\n",
    "# Define model. Specify a number for random_state to ensure same results each run\n",
    "melbourne_model = DecisionTreeRegressor(random_state=1)\n",
    "\n",
    "# Fit model\n",
    "melbourne_model.fit(X, y)"
   ]
  },
  {
   "cell_type": "markdown",
   "id": "3fb6db3c",
   "metadata": {
    "papermill": {
     "duration": 0.011196,
     "end_time": "2021-11-09T00:01:19.764031",
     "exception": false,
     "start_time": "2021-11-09T00:01:19.752835",
     "status": "completed"
    },
    "tags": []
   },
   "source": [
    "Many machine learning models allow some randomness in model training. Specifying a number for `random_state` ensures you get the same results in each run. This is considered a good practice. You use any number, and model quality won't depend meaningfully on exactly what value you choose.\n",
    "\n",
    "We now have a fitted model that we can use to make predictions.\n",
    "\n",
    "In practice, you'll want to make predictions for new houses coming on the market rather than the houses we already have prices for. But we'll make predictions for the first few rows of the training data to see how the predict function works.\n"
   ]
  },
  {
   "cell_type": "code",
   "execution_count": null,
   "id": "3b962e6b",
   "metadata": {
    "papermill": {
     "duration": 0.027281,
     "end_time": "2021-11-09T00:01:19.802903",
     "exception": false,
     "start_time": "2021-11-09T00:01:19.775622",
     "status": "completed"
    },
    "tags": []
   },
   "outputs": [],
   "source": [
    "print(\"Making predictions for the following 5 houses:\\n\")\n",
    "print(X.head())\n",
    "print(\"\\nThe predictions are\")\n",
    "print(melbourne_model.predict(X.head()))"
   ]
  },
  {
   "cell_type": "markdown",
   "id": "2d8b7eac",
   "metadata": {
    "papermill": {
     "duration": 0.01214,
     "end_time": "2021-11-09T00:01:19.827052",
     "exception": false,
     "start_time": "2021-11-09T00:01:19.814912",
     "status": "completed"
    },
    "tags": []
   },
   "source": [
    "# Your Turn\n",
    "Try it out yourself in the model building exercise."
   ]
  }
 ],
 "metadata": {
  "kernelspec": {
   "display_name": "Python 3 (ipykernel)",
   "language": "python",
   "name": "python3"
  },
  "language_info": {
   "codemirror_mode": {
    "name": "ipython",
    "version": 3
   },
   "file_extension": ".py",
   "mimetype": "text/x-python",
   "name": "python",
   "nbconvert_exporter": "python",
   "pygments_lexer": "ipython3",
   "version": "3.8.8"
  },
  "papermill": {
   "default_parameters": {},
   "duration": 11.041134,
   "end_time": "2021-11-09T00:01:20.574451",
   "environment_variables": {},
   "exception": null,
   "input_path": "__notebook__.ipynb",
   "output_path": "__notebook__.ipynb",
   "parameters": {},
   "start_time": "2021-11-09T00:01:09.533317",
   "version": "2.3.3"
  }
 },
 "nbformat": 4,
 "nbformat_minor": 5
}
