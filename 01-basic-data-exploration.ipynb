{
 "cells": [
  {
   "cell_type": "markdown",
   "id": "cdd99882",
   "metadata": {
    "papermill": {
     "duration": 0.005862,
     "end_time": "2021-11-09T00:01:34.156450",
     "exception": false,
     "start_time": "2021-11-09T00:01:34.150588",
     "status": "completed"
    },
    "tags": []
   },
   "source": [
    "# Using Pandas to Get Familiar With Your Data\n",
    "\n",
    "The first step in any machine learning project is familiarize yourself with the data.  You'll use the Pandas library for this.  Pandas is the primary tool data scientists use for exploring and manipulating data.  Most people abbreviate pandas in their code as `pd`.  We do this with the command"
   ]
  },
  {
   "cell_type": "code",
   "execution_count": 1,
   "id": "77d6078a",
   "metadata": {
    "collapsed": true,
    "execution": {
     "iopub.execute_input": "2021-11-09T00:01:34.172312Z",
     "iopub.status.busy": "2021-11-09T00:01:34.170503Z",
     "iopub.status.idle": "2021-11-09T00:01:34.183093Z",
     "shell.execute_reply": "2021-11-09T00:01:34.182397Z"
    },
    "papermill": {
     "duration": 0.021734,
     "end_time": "2021-11-09T00:01:34.183267",
     "exception": false,
     "start_time": "2021-11-09T00:01:34.161533",
     "status": "completed"
    },
    "tags": []
   },
   "outputs": [],
   "source": [
    "from os import environ\n",
    "\n",
    "from boto3 import client\n",
    "import pandas as pd"
   ]
  },
  {
   "cell_type": "code",
   "execution_count": null,
   "id": "1ea152cf",
   "metadata": {},
   "outputs": [],
   "source": [
    "s3_access_key = environ.get('S3_ACCESS_KEY')\n",
    "s3_secret_key = environ.get('S3_SECRET_KEY')\n",
    "\n",
    "s3_client = client(\n",
    "    's3', aws_access_key_id=s3_access_key,\n",
    "    aws_secret_access_key=s3_secret_key,\n",
    ")"
   ]
  },
  {
   "cell_type": "markdown",
   "id": "a3139f6b",
   "metadata": {
    "papermill": {
     "duration": 0.004546,
     "end_time": "2021-11-09T00:01:34.192929",
     "exception": false,
     "start_time": "2021-11-09T00:01:34.188383",
     "status": "completed"
    },
    "tags": []
   },
   "source": [
    "The most important part of the Pandas library is the DataFrame.  A DataFrame holds the type of data you might think of as a table. This is similar to a sheet in Excel, or a table in a SQL database. \n",
    "\n",
    "Pandas has powerful methods for most things you'll want to do with this type of data.  \n",
    "\n",
    "As an example, we'll look at [data about home prices](https://www.kaggle.com/dansbecker/melbourne-housing-snapshot) in Melbourne, Australia. In the hands-on exercises, you will apply the same processes to a new dataset, which has home prices in Iowa.\n",
    "\n",
    "We'll download the example (Melbourne) data to the file path **`./data/melbourne-housing-snapshot/melb_data.csv`**. We'll then load and explore the data."
   ]
  },
  {
   "cell_type": "code",
   "execution_count": null,
   "id": "08bdd7a6",
   "metadata": {
    "collapsed": true,
    "execution": {
     "iopub.execute_input": "2021-11-09T00:01:34.207733Z",
     "iopub.status.busy": "2021-11-09T00:01:34.207081Z",
     "iopub.status.idle": "2021-11-09T00:01:34.366376Z",
     "shell.execute_reply": "2021-11-09T00:01:34.366862Z"
    },
    "papermill": {
     "duration": 0.169399,
     "end_time": "2021-11-09T00:01:34.367046",
     "exception": false,
     "start_time": "2021-11-09T00:01:34.197647",
     "status": "completed"
    },
    "tags": []
   },
   "outputs": [],
   "source": [
    "# save filepath to variable for easier access\n",
    "melbourne_file_path = './data/melbourne-housing-snapshot/melb_data.csv'\n",
    "\n",
    "# download file from S3 bucket\n",
    "s3_client.download_file(\n",
    "    'intro-to-machine-learning', 'basic-data-exploration/melb_data.csv',\n",
    "    melbourne_file_path\n",
    ")\n",
    "\n",
    "# read the data and store data in DataFrame titled melbourne_data\n",
    "melbourne_data = pd.read_csv(melbourne_file_path) \n",
    "\n",
    "# print a summary of the data in Melbourne data\n",
    "melbourne_data.describe()"
   ]
  },
  {
   "cell_type": "markdown",
   "id": "f75b76a3",
   "metadata": {
    "papermill": {
     "duration": 0.007377,
     "end_time": "2021-11-09T00:01:34.380166",
     "exception": false,
     "start_time": "2021-11-09T00:01:34.372789",
     "status": "completed"
    },
    "tags": []
   },
   "source": [
    "# Interpreting Data Description\n",
    "The results show 8 numbers for each column in your original dataset. The first number, the **count**,  shows how many rows have non-missing values.  \n",
    "\n",
    "Missing values arise for many reasons. For example, the size of the 2nd bedroom wouldn't be collected when surveying a 1 bedroom house. We'll come back to the topic of missing data.\n",
    "\n",
    "The second value is the **mean**, which is the average.  Under that, **std** is the standard deviation, which measures how numerically spread out the values are.\n",
    "\n",
    "To interpret the **min**, **25%**, **50%**, **75%** and **max** values, imagine sorting each column from lowest to highest value.  The first (smallest) value is the min.  If you go a quarter way through the list, you'll find a number that is bigger than 25% of the values and smaller than 75% of the values.  That is the **25%** value (pronounced \"25th percentile\").  The 50th and 75th percentiles are defined analogously, and the **max** is the largest number.\n",
    "\n",
    "\n",
    "# Your Turn\n",
    "Get started with your first coding exercise."
   ]
  }
 ],
 "metadata": {
  "kernelspec": {
   "display_name": "Python 3",
   "language": "python",
   "name": "python3"
  },
  "language_info": {
   "codemirror_mode": {
    "name": "ipython",
    "version": 3
   },
   "file_extension": ".py",
   "mimetype": "text/x-python",
   "name": "python",
   "nbconvert_exporter": "python",
   "pygments_lexer": "ipython3",
   "version": "3.7.10"
  },
  "papermill": {
   "default_parameters": {},
   "duration": 10.25765,
   "end_time": "2021-11-09T00:01:35.007995",
   "environment_variables": {},
   "exception": null,
   "input_path": "__notebook__.ipynb",
   "output_path": "__notebook__.ipynb",
   "parameters": {},
   "start_time": "2021-11-09T00:01:24.750345",
   "version": "2.3.3"
  }
 },
 "nbformat": 4,
 "nbformat_minor": 5
}
